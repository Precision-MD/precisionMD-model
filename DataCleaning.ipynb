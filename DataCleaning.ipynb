{
  "nbformat": 4,
  "nbformat_minor": 0,
  "metadata": {
    "colab": {
      "provenance": []
    },
    "kernelspec": {
      "name": "python3",
      "display_name": "Python 3"
    },
    "language_info": {
      "name": "python"
    }
  },
  "cells": [
    {
      "cell_type": "code",
      "execution_count": null,
      "metadata": {
        "id": "ACUOV-nPlagx"
      },
      "outputs": [],
      "source": [
        "import pandas as pd\n",
        "from sklearn.model_selection import train_test_split\n",
        "from sklearn.ensemble import RandomForestClassifier\n",
        "from sklearn.preprocessing import LabelEncoder"
      ]
    },
    {
      "cell_type": "code",
      "source": [
        "X = pd.read_csv('depression_cyp_dataset.csv')"
      ],
      "metadata": {
        "id": "WTlOU5e7lfmA"
      },
      "execution_count": null,
      "outputs": []
    },
    {
      "cell_type": "code",
      "source": [
        "#Split diagnosis into true/false categories\n",
        "#Categories: MDD, Severe, Recurrent, Psychotic\n",
        "keywords = ['MDD', 'Major depressive disorder', 'Major depression']\n",
        "pattern = '|'.join(keywords)\n",
        "X['MDD'] = X['Diagnosis'].str.contains(pattern, case=False, na=False)\n",
        "X['Severe'] = X['Diagnosis'].str.contains('Severe', case=False, na=False)\n",
        "X['Recurrent'] = X['Diagnosis'].str.contains('Recurrent', case=False, na=False)\n",
        "X['Psychotic'] = X['Diagnosis'].str.contains('With Psychotic|with psychosis', case=False, na=False)\n",
        "X = X.drop('Diagnosis', axis=1)"
      ],
      "metadata": {
        "id": "87KhhMHqh6c4"
      },
      "execution_count": null,
      "outputs": []
    },
    {
      "cell_type": "code",
      "source": [
        "#normalize age\n",
        "X['AGE']=(X['AGE']-X['AGE'].min())/(X['AGE'].max()-X['AGE'].min())"
      ],
      "metadata": {
        "id": "l6j10mxLh8wS"
      },
      "execution_count": null,
      "outputs": []
    },
    {
      "cell_type": "code",
      "source": [
        "#one hot encode race\n",
        "oh = pd.get_dummies(X['RACE/ETHNICITY'])\n",
        "X = X.join(oh)\n",
        "X = X.drop('RACE/ETHNICITY',axis = 1)  # Drop TG column as it is now one-hot encoded"
      ],
      "metadata": {
        "id": "P03vvtVkh-83"
      },
      "execution_count": null,
      "outputs": []
    },
    {
      "cell_type": "code",
      "source": [
        "#encode gender to 0/1\n",
        "X['GENDER'] = X['GENDER'].replace('M',1)\n",
        "X['GENDER'] = X['GENDER'].replace('F', 0)"
      ],
      "metadata": {
        "id": "U2D7eMNwiBzw"
      },
      "execution_count": null,
      "outputs": []
    },
    {
      "cell_type": "code",
      "source": [
        "#days instead of hours\n",
        "X['LOS']=(X['LOS']/24).round(2)"
      ],
      "metadata": {
        "id": "htnHbfGliEme"
      },
      "execution_count": null,
      "outputs": []
    },
    {
      "cell_type": "code",
      "source": [
        "#one hot encoding for therapeutic guidances\n",
        "one_hot = pd.get_dummies(X['Therapeutic Guidances'])\n",
        "X = X.join(one_hot)\n",
        "X = X.drop('Therapeutic Guidances',axis = 1)  # Drop TG column as it is now one-hot encoded"
      ],
      "metadata": {
        "id": "4lj7SP6YiId9"
      },
      "execution_count": null,
      "outputs": []
    }
  ]
}